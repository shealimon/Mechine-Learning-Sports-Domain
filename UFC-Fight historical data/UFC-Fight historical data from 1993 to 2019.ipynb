{
 "cells": [
  {
   "cell_type": "code",
   "execution_count": 1,
   "metadata": {},
   "outputs": [],
   "source": [
    "import numpy as np\n",
    "import pandas as pd\n",
    "\n",
    "import seaborn as sns\n",
    "import matplotlib.pyplot as plt"
   ]
  },
  {
   "cell_type": "code",
   "execution_count": 2,
   "metadata": {},
   "outputs": [],
   "source": [
    "fighter_details = pd.read_csv(\"raw_fighter_details.csv\")\n",
    "\n",
    "df = pd.read_csv(\"raw_total_fight_data.csv\", sep = ';')"
   ]
  },
  {
   "cell_type": "code",
   "execution_count": 6,
   "metadata": {},
   "outputs": [
    {
     "data": {
      "text/html": [
       "<div>\n",
       "<style scoped>\n",
       "    .dataframe tbody tr th:only-of-type {\n",
       "        vertical-align: middle;\n",
       "    }\n",
       "\n",
       "    .dataframe tbody tr th {\n",
       "        vertical-align: top;\n",
       "    }\n",
       "\n",
       "    .dataframe thead th {\n",
       "        text-align: right;\n",
       "    }\n",
       "</style>\n",
       "<table border=\"1\" class=\"dataframe\">\n",
       "  <thead>\n",
       "    <tr style=\"text-align: right;\">\n",
       "      <th></th>\n",
       "      <th>R_fighter</th>\n",
       "      <th>B_fighter</th>\n",
       "      <th>R_KD</th>\n",
       "      <th>B_KD</th>\n",
       "      <th>R_SIG_STR.</th>\n",
       "      <th>B_SIG_STR.</th>\n",
       "      <th>R_SIG_STR_pct</th>\n",
       "      <th>B_SIG_STR_pct</th>\n",
       "      <th>R_TOTAL_STR.</th>\n",
       "      <th>B_TOTAL_STR.</th>\n",
       "      <th>...</th>\n",
       "      <th>B_GROUND</th>\n",
       "      <th>win_by</th>\n",
       "      <th>last_round</th>\n",
       "      <th>last_round_time</th>\n",
       "      <th>Format</th>\n",
       "      <th>Referee</th>\n",
       "      <th>date</th>\n",
       "      <th>location</th>\n",
       "      <th>Fight_type</th>\n",
       "      <th>Winner</th>\n",
       "    </tr>\n",
       "  </thead>\n",
       "  <tbody>\n",
       "    <tr>\n",
       "      <td>0</td>\n",
       "      <td>Henry Cejudo</td>\n",
       "      <td>Marlon Moraes</td>\n",
       "      <td>0</td>\n",
       "      <td>0</td>\n",
       "      <td>90 of 171</td>\n",
       "      <td>57 of 119</td>\n",
       "      <td>52%</td>\n",
       "      <td>47%</td>\n",
       "      <td>99 of 182</td>\n",
       "      <td>59 of 121</td>\n",
       "      <td>...</td>\n",
       "      <td>1 of 1</td>\n",
       "      <td>KO/TKO</td>\n",
       "      <td>3</td>\n",
       "      <td>4:51</td>\n",
       "      <td>5 Rnd (5-5-5-5-5)</td>\n",
       "      <td>Marc Goddard</td>\n",
       "      <td>June 08, 2019</td>\n",
       "      <td>Chicago, Illinois, USA</td>\n",
       "      <td>UFC Bantamweight Title Bout</td>\n",
       "      <td>Henry Cejudo</td>\n",
       "    </tr>\n",
       "    <tr>\n",
       "      <td>1</td>\n",
       "      <td>Valentina Shevchenko</td>\n",
       "      <td>Jessica Eye</td>\n",
       "      <td>1</td>\n",
       "      <td>0</td>\n",
       "      <td>8 of 11</td>\n",
       "      <td>2 of 12</td>\n",
       "      <td>72%</td>\n",
       "      <td>16%</td>\n",
       "      <td>37 of 40</td>\n",
       "      <td>42 of 52</td>\n",
       "      <td>...</td>\n",
       "      <td>0 of 0</td>\n",
       "      <td>KO/TKO</td>\n",
       "      <td>2</td>\n",
       "      <td>0:26</td>\n",
       "      <td>5 Rnd (5-5-5-5-5)</td>\n",
       "      <td>Robert Madrigal</td>\n",
       "      <td>June 08, 2019</td>\n",
       "      <td>Chicago, Illinois, USA</td>\n",
       "      <td>UFC Women's Flyweight Title Bout</td>\n",
       "      <td>Valentina Shevchenko</td>\n",
       "    </tr>\n",
       "  </tbody>\n",
       "</table>\n",
       "<p>2 rows × 41 columns</p>\n",
       "</div>"
      ],
      "text/plain": [
       "              R_fighter      B_fighter  R_KD  B_KD R_SIG_STR. B_SIG_STR.  \\\n",
       "0          Henry Cejudo  Marlon Moraes     0     0  90 of 171  57 of 119   \n",
       "1  Valentina Shevchenko    Jessica Eye     1     0    8 of 11    2 of 12   \n",
       "\n",
       "  R_SIG_STR_pct B_SIG_STR_pct R_TOTAL_STR. B_TOTAL_STR.  ... B_GROUND  win_by  \\\n",
       "0           52%           47%    99 of 182    59 of 121  ...   1 of 1  KO/TKO   \n",
       "1           72%           16%     37 of 40     42 of 52  ...   0 of 0  KO/TKO   \n",
       "\n",
       "  last_round last_round_time             Format          Referee  \\\n",
       "0          3            4:51  5 Rnd (5-5-5-5-5)     Marc Goddard   \n",
       "1          2            0:26  5 Rnd (5-5-5-5-5)  Robert Madrigal   \n",
       "\n",
       "            date                location                        Fight_type  \\\n",
       "0  June 08, 2019  Chicago, Illinois, USA       UFC Bantamweight Title Bout   \n",
       "1  June 08, 2019  Chicago, Illinois, USA  UFC Women's Flyweight Title Bout   \n",
       "\n",
       "                 Winner  \n",
       "0          Henry Cejudo  \n",
       "1  Valentina Shevchenko  \n",
       "\n",
       "[2 rows x 41 columns]"
      ]
     },
     "execution_count": 6,
     "metadata": {},
     "output_type": "execute_result"
    }
   ],
   "source": [
    "df.head(2)"
   ]
  },
  {
   "cell_type": "code",
   "execution_count": 5,
   "metadata": {
    "collapsed": true
   },
   "outputs": [
    {
     "name": "stdout",
     "output_type": "stream",
     "text": [
      "<class 'pandas.core.frame.DataFrame'>\n",
      "RangeIndex: 5144 entries, 0 to 5143\n",
      "Data columns (total 41 columns):\n",
      "R_fighter          5144 non-null object\n",
      "B_fighter          5144 non-null object\n",
      "R_KD               5144 non-null int64\n",
      "B_KD               5144 non-null int64\n",
      "R_SIG_STR.         5144 non-null object\n",
      "B_SIG_STR.         5144 non-null object\n",
      "R_SIG_STR_pct      5144 non-null object\n",
      "B_SIG_STR_pct      5144 non-null object\n",
      "R_TOTAL_STR.       5144 non-null object\n",
      "B_TOTAL_STR.       5144 non-null object\n",
      "R_TD               5144 non-null object\n",
      "B_TD               5144 non-null object\n",
      "R_TD_pct           5144 non-null object\n",
      "B_TD_pct           5144 non-null object\n",
      "R_SUB_ATT          5144 non-null int64\n",
      "B_SUB_ATT          5144 non-null int64\n",
      "R_PASS             5144 non-null int64\n",
      "B_PASS             5144 non-null int64\n",
      "R_REV              5144 non-null int64\n",
      "B_REV              5144 non-null int64\n",
      "R_HEAD             5144 non-null object\n",
      "B_HEAD             5144 non-null object\n",
      "R_BODY             5144 non-null object\n",
      "B_BODY             5144 non-null object\n",
      "R_LEG              5144 non-null object\n",
      "B_LEG              5144 non-null object\n",
      "R_DISTANCE         5144 non-null object\n",
      "B_DISTANCE         5144 non-null object\n",
      "R_CLINCH           5144 non-null object\n",
      "B_CLINCH           5144 non-null object\n",
      "R_GROUND           5144 non-null object\n",
      "B_GROUND           5144 non-null object\n",
      "win_by             5144 non-null object\n",
      "last_round         5144 non-null int64\n",
      "last_round_time    5144 non-null object\n",
      "Format             5144 non-null object\n",
      "Referee            5121 non-null object\n",
      "date               5144 non-null object\n",
      "location           5144 non-null object\n",
      "Fight_type         5144 non-null object\n",
      "Winner             5061 non-null object\n",
      "dtypes: int64(9), object(32)\n",
      "memory usage: 1.6+ MB\n"
     ]
    }
   ],
   "source": [
    "df.info()"
   ]
  },
  {
   "cell_type": "code",
   "execution_count": 7,
   "metadata": {
    "scrolled": true
   },
   "outputs": [
    {
     "data": {
      "text/plain": [
       "Index(['R_fighter', 'B_fighter', 'R_KD', 'B_KD', 'R_SIG_STR.', 'B_SIG_STR.',\n",
       "       'R_SIG_STR_pct', 'B_SIG_STR_pct', 'R_TOTAL_STR.', 'B_TOTAL_STR.',\n",
       "       'R_TD', 'B_TD', 'R_TD_pct', 'B_TD_pct', 'R_SUB_ATT', 'B_SUB_ATT',\n",
       "       'R_PASS', 'B_PASS', 'R_REV', 'B_REV', 'R_HEAD', 'B_HEAD', 'R_BODY',\n",
       "       'B_BODY', 'R_LEG', 'B_LEG', 'R_DISTANCE', 'B_DISTANCE', 'R_CLINCH',\n",
       "       'B_CLINCH', 'R_GROUND', 'B_GROUND', 'win_by', 'last_round',\n",
       "       'last_round_time', 'Format', 'Referee', 'date', 'location',\n",
       "       'Fight_type', 'Winner'],\n",
       "      dtype='object')"
      ]
     },
     "execution_count": 7,
     "metadata": {},
     "output_type": "execute_result"
    }
   ],
   "source": [
    "df.columns"
   ]
  },
  {
   "cell_type": "code",
   "execution_count": 8,
   "metadata": {},
   "outputs": [],
   "source": [
    "columns = ['R_SIG_STR.', 'B_SIG_STR.', 'R_TOTAL_STR.', 'B_TOTAL_STR.',\n",
    "       'R_TD', 'B_TD', 'R_HEAD', 'B_HEAD', 'R_BODY','B_BODY', 'R_LEG', 'B_LEG', \n",
    "        'R_DISTANCE', 'B_DISTANCE', 'R_CLINCH','B_CLINCH', 'R_GROUND', 'B_GROUND']"
   ]
  },
  {
   "cell_type": "code",
   "execution_count": 10,
   "metadata": {},
   "outputs": [],
   "source": [
    "attemp = '_att'\n",
    "landed = '_landed'\n",
    "\n",
    "for column in columns:\n",
    "    df[column + attemp] = df[column].apply(lambda X: int(X.split('of')[1]))\n",
    "    df[column + landed] = df[column].apply(lambda X: int(X.split('of')[0]))\n",
    "    \n",
    "df.drop(columns, axis = 1, inplace = True)"
   ]
  },
  {
   "cell_type": "code",
   "execution_count": 11,
   "metadata": {},
   "outputs": [
    {
     "data": {
      "text/html": [
       "<div>\n",
       "<style scoped>\n",
       "    .dataframe tbody tr th:only-of-type {\n",
       "        vertical-align: middle;\n",
       "    }\n",
       "\n",
       "    .dataframe tbody tr th {\n",
       "        vertical-align: top;\n",
       "    }\n",
       "\n",
       "    .dataframe thead th {\n",
       "        text-align: right;\n",
       "    }\n",
       "</style>\n",
       "<table border=\"1\" class=\"dataframe\">\n",
       "  <thead>\n",
       "    <tr style=\"text-align: right;\">\n",
       "      <th></th>\n",
       "      <th>R_fighter</th>\n",
       "      <th>B_fighter</th>\n",
       "      <th>R_KD</th>\n",
       "      <th>B_KD</th>\n",
       "      <th>R_SIG_STR_pct</th>\n",
       "      <th>B_SIG_STR_pct</th>\n",
       "      <th>R_TD_pct</th>\n",
       "      <th>B_TD_pct</th>\n",
       "      <th>R_SUB_ATT</th>\n",
       "      <th>B_SUB_ATT</th>\n",
       "      <th>...</th>\n",
       "      <th>B_DISTANCE_att</th>\n",
       "      <th>B_DISTANCE_landed</th>\n",
       "      <th>R_CLINCH_att</th>\n",
       "      <th>R_CLINCH_landed</th>\n",
       "      <th>B_CLINCH_att</th>\n",
       "      <th>B_CLINCH_landed</th>\n",
       "      <th>R_GROUND_att</th>\n",
       "      <th>R_GROUND_landed</th>\n",
       "      <th>B_GROUND_att</th>\n",
       "      <th>B_GROUND_landed</th>\n",
       "    </tr>\n",
       "  </thead>\n",
       "  <tbody>\n",
       "    <tr>\n",
       "      <td>0</td>\n",
       "      <td>Henry Cejudo</td>\n",
       "      <td>Marlon Moraes</td>\n",
       "      <td>0</td>\n",
       "      <td>0</td>\n",
       "      <td>52%</td>\n",
       "      <td>47%</td>\n",
       "      <td>25%</td>\n",
       "      <td>0%</td>\n",
       "      <td>1</td>\n",
       "      <td>0</td>\n",
       "      <td>...</td>\n",
       "      <td>116</td>\n",
       "      <td>54</td>\n",
       "      <td>23</td>\n",
       "      <td>19</td>\n",
       "      <td>2</td>\n",
       "      <td>2</td>\n",
       "      <td>30</td>\n",
       "      <td>26</td>\n",
       "      <td>1</td>\n",
       "      <td>1</td>\n",
       "    </tr>\n",
       "    <tr>\n",
       "      <td>1</td>\n",
       "      <td>Valentina Shevchenko</td>\n",
       "      <td>Jessica Eye</td>\n",
       "      <td>1</td>\n",
       "      <td>0</td>\n",
       "      <td>72%</td>\n",
       "      <td>16%</td>\n",
       "      <td>100%</td>\n",
       "      <td>0%</td>\n",
       "      <td>1</td>\n",
       "      <td>0</td>\n",
       "      <td>...</td>\n",
       "      <td>12</td>\n",
       "      <td>2</td>\n",
       "      <td>2</td>\n",
       "      <td>2</td>\n",
       "      <td>0</td>\n",
       "      <td>0</td>\n",
       "      <td>1</td>\n",
       "      <td>1</td>\n",
       "      <td>0</td>\n",
       "      <td>0</td>\n",
       "    </tr>\n",
       "    <tr>\n",
       "      <td>2</td>\n",
       "      <td>Tony Ferguson</td>\n",
       "      <td>Donald Cerrone</td>\n",
       "      <td>0</td>\n",
       "      <td>0</td>\n",
       "      <td>52%</td>\n",
       "      <td>36%</td>\n",
       "      <td>0%</td>\n",
       "      <td>100%</td>\n",
       "      <td>0</td>\n",
       "      <td>0</td>\n",
       "      <td>...</td>\n",
       "      <td>184</td>\n",
       "      <td>68</td>\n",
       "      <td>2</td>\n",
       "      <td>1</td>\n",
       "      <td>1</td>\n",
       "      <td>0</td>\n",
       "      <td>0</td>\n",
       "      <td>0</td>\n",
       "      <td>0</td>\n",
       "      <td>0</td>\n",
       "    </tr>\n",
       "    <tr>\n",
       "      <td>3</td>\n",
       "      <td>Jimmie Rivera</td>\n",
       "      <td>Petr Yan</td>\n",
       "      <td>0</td>\n",
       "      <td>2</td>\n",
       "      <td>38%</td>\n",
       "      <td>29%</td>\n",
       "      <td>0%</td>\n",
       "      <td>33%</td>\n",
       "      <td>0</td>\n",
       "      <td>0</td>\n",
       "      <td>...</td>\n",
       "      <td>167</td>\n",
       "      <td>42</td>\n",
       "      <td>15</td>\n",
       "      <td>9</td>\n",
       "      <td>12</td>\n",
       "      <td>10</td>\n",
       "      <td>4</td>\n",
       "      <td>4</td>\n",
       "      <td>10</td>\n",
       "      <td>4</td>\n",
       "    </tr>\n",
       "    <tr>\n",
       "      <td>4</td>\n",
       "      <td>Tai Tuivasa</td>\n",
       "      <td>Blagoy Ivanov</td>\n",
       "      <td>0</td>\n",
       "      <td>1</td>\n",
       "      <td>44%</td>\n",
       "      <td>59%</td>\n",
       "      <td>0%</td>\n",
       "      <td>100%</td>\n",
       "      <td>0</td>\n",
       "      <td>0</td>\n",
       "      <td>...</td>\n",
       "      <td>111</td>\n",
       "      <td>62</td>\n",
       "      <td>18</td>\n",
       "      <td>14</td>\n",
       "      <td>6</td>\n",
       "      <td>5</td>\n",
       "      <td>0</td>\n",
       "      <td>0</td>\n",
       "      <td>6</td>\n",
       "      <td>6</td>\n",
       "    </tr>\n",
       "  </tbody>\n",
       "</table>\n",
       "<p>5 rows × 59 columns</p>\n",
       "</div>"
      ],
      "text/plain": [
       "              R_fighter       B_fighter  R_KD  B_KD R_SIG_STR_pct  \\\n",
       "0          Henry Cejudo   Marlon Moraes     0     0           52%   \n",
       "1  Valentina Shevchenko     Jessica Eye     1     0           72%   \n",
       "2         Tony Ferguson  Donald Cerrone     0     0           52%   \n",
       "3         Jimmie Rivera        Petr Yan     0     2           38%   \n",
       "4           Tai Tuivasa   Blagoy Ivanov     0     1           44%   \n",
       "\n",
       "  B_SIG_STR_pct R_TD_pct B_TD_pct  R_SUB_ATT  B_SUB_ATT  ...  B_DISTANCE_att  \\\n",
       "0           47%      25%       0%          1          0  ...             116   \n",
       "1           16%     100%       0%          1          0  ...              12   \n",
       "2           36%       0%     100%          0          0  ...             184   \n",
       "3           29%       0%      33%          0          0  ...             167   \n",
       "4           59%       0%     100%          0          0  ...             111   \n",
       "\n",
       "   B_DISTANCE_landed  R_CLINCH_att  R_CLINCH_landed B_CLINCH_att  \\\n",
       "0                 54            23               19            2   \n",
       "1                  2             2                2            0   \n",
       "2                 68             2                1            1   \n",
       "3                 42            15                9           12   \n",
       "4                 62            18               14            6   \n",
       "\n",
       "   B_CLINCH_landed R_GROUND_att R_GROUND_landed B_GROUND_att B_GROUND_landed  \n",
       "0                2           30              26            1               1  \n",
       "1                0            1               1            0               0  \n",
       "2                0            0               0            0               0  \n",
       "3               10            4               4           10               4  \n",
       "4                5            0               0            6               6  \n",
       "\n",
       "[5 rows x 59 columns]"
      ]
     },
     "execution_count": 11,
     "metadata": {},
     "output_type": "execute_result"
    }
   ],
   "source": [
    "df.head()"
   ]
  },
  {
   "cell_type": "code",
   "execution_count": 12,
   "metadata": {},
   "outputs": [],
   "source": [
    "#Make The Percentage to Fraction\n",
    "\n",
    "pct_columns = ['R_SIG_STR_pct','B_SIG_STR_pct', 'R_TD_pct', 'B_TD_pct']\n",
    "\n",
    "for column in pct_columns:\n",
    "    df[column] = df[column].apply(lambda X: float(X.replace('%', ''))/100)"
   ]
  },
  {
   "cell_type": "code",
   "execution_count": 13,
   "metadata": {},
   "outputs": [],
   "source": [
    "#Get Fighter Division\n",
    "\n",
    "def Division(X):\n",
    "    for Division in weight_classes:\n",
    "        if Division in X:\n",
    "            return Division\n",
    "    if X == 'Catch Weight Bout' or 'Catchweight Bout':\n",
    "        return 'Catch Weight'\n",
    "    else:\n",
    "        return 'Open Weight'"
   ]
  },
  {
   "cell_type": "code",
   "execution_count": 14,
   "metadata": {},
   "outputs": [],
   "source": [
    "weight_classes = ['Women\\'s Strawweight', 'Women\\'s Bantamweight', \n",
    "                  'Women\\'s Featherweight', 'Women\\'s Flyweight', 'Lightweight', \n",
    "                  'Welterweight', 'Middleweight','Light Heavyweight', \n",
    "                  'Heavyweight', 'Featherweight','Bantamweight', 'Flyweight', 'Open Weight']\n",
    "\n",
    "df['weight_class'] = df['Fight_type'].apply(Division)"
   ]
  },
  {
   "cell_type": "code",
   "execution_count": 15,
   "metadata": {},
   "outputs": [
    {
     "data": {
      "text/plain": [
       "Lightweight              989\n",
       "Welterweight             969\n",
       "Middleweight             725\n",
       "Heavyweight              507\n",
       "Light Heavyweight        502\n",
       "Featherweight            442\n",
       "Bantamweight             379\n",
       "Flyweight                187\n",
       "Women's Strawweight      143\n",
       "Women's Bantamweight     111\n",
       "Open Weight               92\n",
       "Women's Flyweight         50\n",
       "Catch Weight              38\n",
       "Women's Featherweight     10\n",
       "Name: weight_class, dtype: int64"
      ]
     },
     "execution_count": 15,
     "metadata": {},
     "output_type": "execute_result"
    }
   ],
   "source": [
    "df['weight_class'].value_counts()"
   ]
  },
  {
   "cell_type": "code",
   "execution_count": null,
   "metadata": {},
   "outputs": [],
   "source": [
    "# Number of Round"
   ]
  },
  {
   "cell_type": "code",
   "execution_count": 16,
   "metadata": {},
   "outputs": [],
   "source": [
    "def get_rounds(X):\n",
    "    if X == 'No Time Limit':\n",
    "        return 1\n",
    "    else:\n",
    "        return len(X.split('(')[1].replace(')', '').split('-'))\n",
    "\n",
    "df['no_of_rounds'] = df['Format'].apply(get_rounds)"
   ]
  },
  {
   "cell_type": "code",
   "execution_count": 17,
   "metadata": {},
   "outputs": [
    {
     "data": {
      "text/plain": [
       "83"
      ]
     },
     "execution_count": 17,
     "metadata": {},
     "output_type": "execute_result"
    }
   ],
   "source": [
    "# Replace Winner Name with R/B\n",
    "\n",
    "df['Winner'].isnull().sum()"
   ]
  },
  {
   "cell_type": "code",
   "execution_count": 18,
   "metadata": {},
   "outputs": [],
   "source": [
    "#fill the null value with draw\n",
    "\n",
    "df['Winner'].fillna('Draw', inplace=True) "
   ]
  },
  {
   "cell_type": "code",
   "execution_count": null,
   "metadata": {},
   "outputs": [],
   "source": [
    "def get_renamed_winner(row):\n",
    "    if row['R_fighter'] == row['Winner']:\n",
    "        return 'Red'\n",
    "    elif row['B_fighter'] == row['Winner']:\n",
    "        return 'Blue'\n",
    "    elif row['Winner'] == 'Draw':\n",
    "        return 'Draw'\n",
    "\n",
    "df['Winner'] = df[['R_fighter', 'B_fighter', 'Winner']].apply(get_renamed_winner, axis=1)"
   ]
  },
  {
   "cell_type": "code",
   "execution_count": 19,
   "metadata": {
    "scrolled": true
   },
   "outputs": [
    {
     "data": {
      "text/plain": [
       "Draw                 83\n",
       "Donald Cerrone       23\n",
       "Michael Bisping      20\n",
       "Georges St-Pierre    20\n",
       "Demian Maia          20\n",
       "                     ..\n",
       "Mike Ciesnolevicz     1\n",
       "Rafael Carino         1\n",
       "Matt Hobar            1\n",
       "Hannah Cifers         1\n",
       "Rachael Ostovich      1\n",
       "Name: Winner, Length: 1268, dtype: int64"
      ]
     },
     "execution_count": 19,
     "metadata": {},
     "output_type": "execute_result"
    }
   ],
   "source": [
    "df['Winner'].value_counts()"
   ]
  },
  {
   "cell_type": "markdown",
   "metadata": {},
   "source": [
    "# Deal with fighter details data"
   ]
  },
  {
   "cell_type": "code",
   "execution_count": 20,
   "metadata": {},
   "outputs": [],
   "source": [
    "# Inch to CM\n",
    "\n",
    "def convert_to_cms(X):\n",
    "    if X is np.NaN:\n",
    "        return X\n",
    "    elif len(X.split(\"'\")) == 2:\n",
    "        feet = float(X.split(\"'\")[0])\n",
    "        inches = int(X.split(\"'\")[1].replace(' ', '').replace('\"',''))\n",
    "        return (feet * 30.48) + (inches * 2.54)\n",
    "    else:\n",
    "        return float(X.replace('\"','')) * 2.54"
   ]
  },
  {
   "cell_type": "code",
   "execution_count": 21,
   "metadata": {},
   "outputs": [],
   "source": [
    "fighter_details['Height'] = fighter_details['Height'].apply(convert_to_cms)\n",
    "fighter_details['Reach'] = fighter_details['Reach'].apply(convert_to_cms)"
   ]
  },
  {
   "cell_type": "code",
   "execution_count": 22,
   "metadata": {},
   "outputs": [],
   "source": [
    "fighter_details['Weight'] = fighter_details['Weight'].apply(lambda X: float(X.replace(' lbs.', '')) if X is not np.NaN else X)"
   ]
  },
  {
   "cell_type": "code",
   "execution_count": 23,
   "metadata": {},
   "outputs": [
    {
     "data": {
      "text/html": [
       "<div>\n",
       "<style scoped>\n",
       "    .dataframe tbody tr th:only-of-type {\n",
       "        vertical-align: middle;\n",
       "    }\n",
       "\n",
       "    .dataframe tbody tr th {\n",
       "        vertical-align: top;\n",
       "    }\n",
       "\n",
       "    .dataframe thead th {\n",
       "        text-align: right;\n",
       "    }\n",
       "</style>\n",
       "<table border=\"1\" class=\"dataframe\">\n",
       "  <thead>\n",
       "    <tr style=\"text-align: right;\">\n",
       "      <th></th>\n",
       "      <th>fighter_name</th>\n",
       "      <th>Height</th>\n",
       "      <th>Weight</th>\n",
       "      <th>Reach</th>\n",
       "      <th>Stance</th>\n",
       "      <th>DOB</th>\n",
       "    </tr>\n",
       "  </thead>\n",
       "  <tbody>\n",
       "    <tr>\n",
       "      <td>0</td>\n",
       "      <td>AJ Fonseca</td>\n",
       "      <td>162.56</td>\n",
       "      <td>145.0</td>\n",
       "      <td>NaN</td>\n",
       "      <td>NaN</td>\n",
       "      <td>NaN</td>\n",
       "    </tr>\n",
       "    <tr>\n",
       "      <td>1</td>\n",
       "      <td>AJ Matthews</td>\n",
       "      <td>180.34</td>\n",
       "      <td>185.0</td>\n",
       "      <td>NaN</td>\n",
       "      <td>NaN</td>\n",
       "      <td>NaN</td>\n",
       "    </tr>\n",
       "    <tr>\n",
       "      <td>2</td>\n",
       "      <td>AJ McKee</td>\n",
       "      <td>177.80</td>\n",
       "      <td>145.0</td>\n",
       "      <td>NaN</td>\n",
       "      <td>NaN</td>\n",
       "      <td>NaN</td>\n",
       "    </tr>\n",
       "    <tr>\n",
       "      <td>3</td>\n",
       "      <td>AJ Siscoe</td>\n",
       "      <td>170.18</td>\n",
       "      <td>135.0</td>\n",
       "      <td>NaN</td>\n",
       "      <td>NaN</td>\n",
       "      <td>NaN</td>\n",
       "    </tr>\n",
       "    <tr>\n",
       "      <td>4</td>\n",
       "      <td>Aalon Cruz</td>\n",
       "      <td>182.88</td>\n",
       "      <td>145.0</td>\n",
       "      <td>NaN</td>\n",
       "      <td>NaN</td>\n",
       "      <td>NaN</td>\n",
       "    </tr>\n",
       "  </tbody>\n",
       "</table>\n",
       "</div>"
      ],
      "text/plain": [
       "  fighter_name  Height  Weight  Reach Stance  DOB\n",
       "0   AJ Fonseca  162.56   145.0    NaN    NaN  NaN\n",
       "1  AJ Matthews  180.34   185.0    NaN    NaN  NaN\n",
       "2     AJ McKee  177.80   145.0    NaN    NaN  NaN\n",
       "3    AJ Siscoe  170.18   135.0    NaN    NaN  NaN\n",
       "4   Aalon Cruz  182.88   145.0    NaN    NaN  NaN"
      ]
     },
     "execution_count": 23,
     "metadata": {},
     "output_type": "execute_result"
    }
   ],
   "source": [
    "fighter_details.head()"
   ]
  },
  {
   "cell_type": "code",
   "execution_count": 24,
   "metadata": {},
   "outputs": [],
   "source": [
    "# Merger Fighter Data with Match Data\n",
    "\n",
    "new = df.merge(fighter_details, left_on='R_fighter', right_on='fighter_name', how='left')"
   ]
  },
  {
   "cell_type": "code",
   "execution_count": 25,
   "metadata": {},
   "outputs": [],
   "source": [
    "new = new.drop('fighter_name', axis=1)"
   ]
  },
  {
   "cell_type": "code",
   "execution_count": 26,
   "metadata": {},
   "outputs": [],
   "source": [
    "new.rename(columns={'Height':'R_Height',\n",
    "                          'Weight':'R_Weight',\n",
    "                          'Reach':'R_Reach',\n",
    "                          'Stance':'R_Stance',\n",
    "                          'DOB':'R_DOB'}, \n",
    "                 inplace=True)"
   ]
  },
  {
   "cell_type": "code",
   "execution_count": 27,
   "metadata": {},
   "outputs": [],
   "source": [
    "new = new.merge(fighter_details, left_on='B_fighter', right_on='fighter_name', how='left')"
   ]
  },
  {
   "cell_type": "code",
   "execution_count": 28,
   "metadata": {},
   "outputs": [],
   "source": [
    "new = new.drop('fighter_name', axis=1)"
   ]
  },
  {
   "cell_type": "code",
   "execution_count": 29,
   "metadata": {},
   "outputs": [],
   "source": [
    "new.rename(columns={'Height':'B_Height',\n",
    "                          'Weight':'B_Weight',\n",
    "                          'Reach':'B_Reach',\n",
    "                          'Stance':'B_Stance',\n",
    "                          'DOB':'B_DOB'}, \n",
    "                 inplace=True)"
   ]
  },
  {
   "cell_type": "code",
   "execution_count": 30,
   "metadata": {},
   "outputs": [
    {
     "data": {
      "text/html": [
       "<div>\n",
       "<style scoped>\n",
       "    .dataframe tbody tr th:only-of-type {\n",
       "        vertical-align: middle;\n",
       "    }\n",
       "\n",
       "    .dataframe tbody tr th {\n",
       "        vertical-align: top;\n",
       "    }\n",
       "\n",
       "    .dataframe thead th {\n",
       "        text-align: right;\n",
       "    }\n",
       "</style>\n",
       "<table border=\"1\" class=\"dataframe\">\n",
       "  <thead>\n",
       "    <tr style=\"text-align: right;\">\n",
       "      <th></th>\n",
       "      <th>R_fighter</th>\n",
       "      <th>B_fighter</th>\n",
       "      <th>R_KD</th>\n",
       "      <th>B_KD</th>\n",
       "      <th>R_SIG_STR_pct</th>\n",
       "      <th>B_SIG_STR_pct</th>\n",
       "      <th>R_TD_pct</th>\n",
       "      <th>B_TD_pct</th>\n",
       "      <th>R_SUB_ATT</th>\n",
       "      <th>B_SUB_ATT</th>\n",
       "      <th>...</th>\n",
       "      <th>R_Height</th>\n",
       "      <th>R_Weight</th>\n",
       "      <th>R_Reach</th>\n",
       "      <th>R_Stance</th>\n",
       "      <th>R_DOB</th>\n",
       "      <th>B_Height</th>\n",
       "      <th>B_Weight</th>\n",
       "      <th>B_Reach</th>\n",
       "      <th>B_Stance</th>\n",
       "      <th>B_DOB</th>\n",
       "    </tr>\n",
       "  </thead>\n",
       "  <tbody>\n",
       "    <tr>\n",
       "      <td>0</td>\n",
       "      <td>Henry Cejudo</td>\n",
       "      <td>Marlon Moraes</td>\n",
       "      <td>0</td>\n",
       "      <td>0</td>\n",
       "      <td>0.52</td>\n",
       "      <td>0.47</td>\n",
       "      <td>0.25</td>\n",
       "      <td>0.00</td>\n",
       "      <td>1</td>\n",
       "      <td>0</td>\n",
       "      <td>...</td>\n",
       "      <td>162.56</td>\n",
       "      <td>135.0</td>\n",
       "      <td>162.56</td>\n",
       "      <td>Orthodox</td>\n",
       "      <td>Feb 09, 1987</td>\n",
       "      <td>167.64</td>\n",
       "      <td>135.0</td>\n",
       "      <td>170.18</td>\n",
       "      <td>Orthodox</td>\n",
       "      <td>Apr 26, 1988</td>\n",
       "    </tr>\n",
       "    <tr>\n",
       "      <td>1</td>\n",
       "      <td>Valentina Shevchenko</td>\n",
       "      <td>Jessica Eye</td>\n",
       "      <td>1</td>\n",
       "      <td>0</td>\n",
       "      <td>0.72</td>\n",
       "      <td>0.16</td>\n",
       "      <td>1.00</td>\n",
       "      <td>0.00</td>\n",
       "      <td>1</td>\n",
       "      <td>0</td>\n",
       "      <td>...</td>\n",
       "      <td>165.10</td>\n",
       "      <td>125.0</td>\n",
       "      <td>167.64</td>\n",
       "      <td>Southpaw</td>\n",
       "      <td>Mar 07, 1988</td>\n",
       "      <td>167.64</td>\n",
       "      <td>125.0</td>\n",
       "      <td>167.64</td>\n",
       "      <td>Orthodox</td>\n",
       "      <td>Jul 27, 1986</td>\n",
       "    </tr>\n",
       "    <tr>\n",
       "      <td>2</td>\n",
       "      <td>Tony Ferguson</td>\n",
       "      <td>Donald Cerrone</td>\n",
       "      <td>0</td>\n",
       "      <td>0</td>\n",
       "      <td>0.52</td>\n",
       "      <td>0.36</td>\n",
       "      <td>0.00</td>\n",
       "      <td>1.00</td>\n",
       "      <td>0</td>\n",
       "      <td>0</td>\n",
       "      <td>...</td>\n",
       "      <td>180.34</td>\n",
       "      <td>155.0</td>\n",
       "      <td>193.04</td>\n",
       "      <td>Orthodox</td>\n",
       "      <td>Feb 12, 1984</td>\n",
       "      <td>185.42</td>\n",
       "      <td>155.0</td>\n",
       "      <td>185.42</td>\n",
       "      <td>Orthodox</td>\n",
       "      <td>Mar 29, 1983</td>\n",
       "    </tr>\n",
       "    <tr>\n",
       "      <td>3</td>\n",
       "      <td>Jimmie Rivera</td>\n",
       "      <td>Petr Yan</td>\n",
       "      <td>0</td>\n",
       "      <td>2</td>\n",
       "      <td>0.38</td>\n",
       "      <td>0.29</td>\n",
       "      <td>0.00</td>\n",
       "      <td>0.33</td>\n",
       "      <td>0</td>\n",
       "      <td>0</td>\n",
       "      <td>...</td>\n",
       "      <td>162.56</td>\n",
       "      <td>135.0</td>\n",
       "      <td>172.72</td>\n",
       "      <td>Orthodox</td>\n",
       "      <td>Jun 29, 1989</td>\n",
       "      <td>170.18</td>\n",
       "      <td>135.0</td>\n",
       "      <td>170.18</td>\n",
       "      <td>Switch</td>\n",
       "      <td>Feb 11, 1993</td>\n",
       "    </tr>\n",
       "    <tr>\n",
       "      <td>4</td>\n",
       "      <td>Tai Tuivasa</td>\n",
       "      <td>Blagoy Ivanov</td>\n",
       "      <td>0</td>\n",
       "      <td>1</td>\n",
       "      <td>0.44</td>\n",
       "      <td>0.59</td>\n",
       "      <td>0.00</td>\n",
       "      <td>1.00</td>\n",
       "      <td>0</td>\n",
       "      <td>0</td>\n",
       "      <td>...</td>\n",
       "      <td>187.96</td>\n",
       "      <td>264.0</td>\n",
       "      <td>190.50</td>\n",
       "      <td>Southpaw</td>\n",
       "      <td>Mar 16, 1993</td>\n",
       "      <td>180.34</td>\n",
       "      <td>250.0</td>\n",
       "      <td>185.42</td>\n",
       "      <td>Southpaw</td>\n",
       "      <td>Oct 09, 1986</td>\n",
       "    </tr>\n",
       "  </tbody>\n",
       "</table>\n",
       "<p>5 rows × 71 columns</p>\n",
       "</div>"
      ],
      "text/plain": [
       "              R_fighter       B_fighter  R_KD  B_KD  R_SIG_STR_pct  \\\n",
       "0          Henry Cejudo   Marlon Moraes     0     0           0.52   \n",
       "1  Valentina Shevchenko     Jessica Eye     1     0           0.72   \n",
       "2         Tony Ferguson  Donald Cerrone     0     0           0.52   \n",
       "3         Jimmie Rivera        Petr Yan     0     2           0.38   \n",
       "4           Tai Tuivasa   Blagoy Ivanov     0     1           0.44   \n",
       "\n",
       "   B_SIG_STR_pct  R_TD_pct  B_TD_pct  R_SUB_ATT  B_SUB_ATT  ...  R_Height  \\\n",
       "0           0.47      0.25      0.00          1          0  ...    162.56   \n",
       "1           0.16      1.00      0.00          1          0  ...    165.10   \n",
       "2           0.36      0.00      1.00          0          0  ...    180.34   \n",
       "3           0.29      0.00      0.33          0          0  ...    162.56   \n",
       "4           0.59      0.00      1.00          0          0  ...    187.96   \n",
       "\n",
       "   R_Weight  R_Reach  R_Stance         R_DOB  B_Height B_Weight B_Reach  \\\n",
       "0     135.0   162.56  Orthodox  Feb 09, 1987    167.64    135.0  170.18   \n",
       "1     125.0   167.64  Southpaw  Mar 07, 1988    167.64    125.0  167.64   \n",
       "2     155.0   193.04  Orthodox  Feb 12, 1984    185.42    155.0  185.42   \n",
       "3     135.0   172.72  Orthodox  Jun 29, 1989    170.18    135.0  170.18   \n",
       "4     264.0   190.50  Southpaw  Mar 16, 1993    180.34    250.0  185.42   \n",
       "\n",
       "   B_Stance         B_DOB  \n",
       "0  Orthodox  Apr 26, 1988  \n",
       "1  Orthodox  Jul 27, 1986  \n",
       "2  Orthodox  Mar 29, 1983  \n",
       "3    Switch  Feb 11, 1993  \n",
       "4  Southpaw  Oct 09, 1986  \n",
       "\n",
       "[5 rows x 71 columns]"
      ]
     },
     "execution_count": 30,
     "metadata": {},
     "output_type": "execute_result"
    }
   ],
   "source": [
    "new.head()"
   ]
  },
  {
   "cell_type": "code",
   "execution_count": 31,
   "metadata": {},
   "outputs": [],
   "source": [
    "# Get Age\n",
    "\n",
    "new['R_DOB'] = pd.to_datetime(new['R_DOB'])\n",
    "new['B_DOB'] = pd.to_datetime(new['B_DOB'])\n",
    "new['date'] = pd.to_datetime(new['date'])"
   ]
  },
  {
   "cell_type": "code",
   "execution_count": 32,
   "metadata": {},
   "outputs": [],
   "source": [
    "new['R_year'] = new['R_DOB'].apply(lambda x: x.year)\n",
    "new['B_year'] = new['B_DOB'].apply(lambda x: x.year)\n",
    "new['date_year'] = new['date'].apply(lambda x: x.year)"
   ]
  },
  {
   "cell_type": "code",
   "execution_count": 34,
   "metadata": {},
   "outputs": [],
   "source": [
    "def get_age(row):\n",
    "    B_age = (row['date_year'] - row['B_year'])\n",
    "    R_age = (row['date_year'] - row['R_year'])\n",
    "    if np.isnan(B_age) != True:\n",
    "        B_age = B_age\n",
    "    if np.isnan(R_age) != True:\n",
    "        R_age = R_age\n",
    "    return pd.Series([B_age, R_age], index=['B_age', 'R_age'])"
   ]
  },
  {
   "cell_type": "code",
   "execution_count": 35,
   "metadata": {},
   "outputs": [],
   "source": [
    "new[['B_age', 'R_age']] = new[['date_year', 'R_year', 'B_year']].apply(get_age, axis = 1)"
   ]
  },
  {
   "cell_type": "code",
   "execution_count": 36,
   "metadata": {},
   "outputs": [],
   "source": [
    "new.drop(['R_DOB', 'B_DOB','date_year','R_year','B_year'], axis = 1, inplace = True)"
   ]
  },
  {
   "cell_type": "code",
   "execution_count": 37,
   "metadata": {},
   "outputs": [],
   "source": [
    "# Fighter Country\n",
    "\n",
    "new['country'] = new['location'].apply(lambda x : x.split(',')[-1])"
   ]
  },
  {
   "cell_type": "markdown",
   "metadata": {},
   "source": [
    "# EDA & Visualization"
   ]
  },
  {
   "cell_type": "code",
   "execution_count": 38,
   "metadata": {},
   "outputs": [],
   "source": [
    "new['date_year'] = new['date'].apply(lambda x: x.year)"
   ]
  },
  {
   "cell_type": "code",
   "execution_count": 41,
   "metadata": {},
   "outputs": [
    {
     "data": {
      "image/png": "[encoded data removed]",
      "text/plain": [
       "<Figure size 1080x576 with 1 Axes>"
      ]
     },
     "metadata": {
      "needs_background": "light"
     },
     "output_type": "display_data"
    }
   ],
   "source": [
    "values = new['date_year'].sort_values(ascending = False).value_counts().sort_index()\n",
    "labels = values.index\n",
    "\n",
    "clrs = ['navy' if (y < max(values)) else 'black' for y in values ]\n",
    "\n",
    "plt.figure(figsize = (15,8))\n",
    "bar = sns.barplot(x = labels, y = values, palette = clrs)\n",
    "\n",
    "\n",
    "ax = plt.gca()\n",
    "y_max = values.max() \n",
    "ax.set_ylim(1)\n",
    "for p in ax.patches:\n",
    "    ax.text(p.get_x() + p.get_width()/2., p.get_height(), p.get_height(), \n",
    "        fontsize = 10, color = 'black', ha = 'center', va = 'bottom')\n",
    "    \n",
    "plt.xlabel('Tahun')\n",
    "plt.ylabel('Jumlah Pertandingan')\n",
    "plt.title('UFC Event Per Year')\n",
    "plt.show()"
   ]
  },
  {
   "cell_type": "code",
   "execution_count": 42,
   "metadata": {
    "scrolled": true
   },
   "outputs": [
    {
     "data": {
      "image/png": "[encoded data removed]",
      "text/plain": [
       "<Figure size 720x360 with 1 Axes>"
      ]
     },
     "metadata": {
      "needs_background": "light"
     },
     "output_type": "display_data"
    }
   ],
   "source": [
    "plt.figure(figsize = (10,5))\n",
    "bar = sns.countplot(new['country'])\n",
    "plt.xticks(rotation = 90)\n",
    "ax = plt.gca()\n",
    "y_max = new['country'].value_counts().max() \n",
    "ax.set_ylim(1)\n",
    "for p in ax.patches:\n",
    "    ax.text(p.get_x() + p.get_width()/2., p.get_height(), p.get_height(), \n",
    "        fontsize = 10, color = 'black', ha = 'center', va = 'bottom')\n",
    "\n",
    "plt.title('Event by Country')    \n",
    "plt.show()"
   ]
  },
  {
   "cell_type": "code",
   "execution_count": 43,
   "metadata": {},
   "outputs": [],
   "source": [
    "women = new.weight_class.str.contains('Women')"
   ]
  },
  {
   "cell_type": "code",
   "execution_count": 44,
   "metadata": {},
   "outputs": [],
   "source": [
    "women1 = len(new[women])\n",
    "men = (len(new['weight_class'])) - len(new[women])"
   ]
  },
  {
   "cell_type": "code",
   "execution_count": 45,
   "metadata": {},
   "outputs": [
    {
     "data": {
      "image/png": "[encoded data removed]",
      "text/plain": [
       "<Figure size 720x576 with 1 Axes>"
      ]
     },
     "metadata": {},
     "output_type": "display_data"
    }
   ],
   "source": [
    "labels = 'Men Fight', 'Women Fight'\n",
    "sizes = [men,women1]\n",
    "explode = (0, 0.1,)  \n",
    "\n",
    "fig1, ax1 = plt.subplots(figsize = (10,8))\n",
    "ax1.pie(sizes, explode = explode, labels = labels, autopct = '%1.1f%%',\n",
    "        shadow = True, startangle = 90 )\n",
    "ax1.axis('equal') \n",
    "\n",
    "plt.show()"
   ]
  },
  {
   "cell_type": "code",
   "execution_count": 52,
   "metadata": {},
   "outputs": [],
   "source": [
    "new['R_age'] = new['R_age'].fillna(new['R_age'].median())"
   ]
  },
  {
   "cell_type": "code",
   "execution_count": 53,
   "metadata": {},
   "outputs": [],
   "source": [
    "new['B_age'] = new['B_age'].fillna(new['B_age'].median())"
   ]
  },
  {
   "cell_type": "code",
   "execution_count": 54,
   "metadata": {},
   "outputs": [
    {
     "data": {
      "image/png": "[encoded data removed]",
      "text/plain": [
       "<Figure size 720x576 with 2 Axes>"
      ]
     },
     "metadata": {
      "needs_background": "light"
     },
     "output_type": "display_data"
    }
   ],
   "source": [
    "f, ax = plt.subplots(1, 2, figsize = (10,8))\n",
    "sns.distplot(new['R_age'], ax = ax[0])\n",
    "\n",
    "ax[0].set_title('R_age')\n",
    "ax[0].set_ylabel('')\n",
    "hist = sns.distplot(new['B_age'], ax = ax[1])\n",
    "\n",
    "ax[1].set_title('B_age')\n",
    "plt.show()"
   ]
  },
  {
   "cell_type": "code",
   "execution_count": 58,
   "metadata": {},
   "outputs": [
    {
     "data": {
      "image/png": "[encoded data removed]",
      "text/plain": [
       "<Figure size 360x360 with 1 Axes>"
      ]
     },
     "metadata": {
      "needs_background": "light"
     },
     "output_type": "display_data"
    }
   ],
   "source": [
    "# Then Now lets see how Height can affect the match\n",
    "\n",
    "sns.lmplot(x='R_Height', y='R_Reach', data=new)\n",
    "plt.show()\n"
   ]
  },
  {
   "cell_type": "code",
   "execution_count": 59,
   "metadata": {},
   "outputs": [],
   "source": [
    "new['R_Height'] = new['R_Height'].fillna(new['R_Height'].mean())\n",
    "\n",
    "new['B_Height'] = new['B_Height'].fillna(new['R_age'].mean())"
   ]
  },
  {
   "cell_type": "code",
   "execution_count": 60,
   "metadata": {},
   "outputs": [
    {
     "data": {
      "image/png": "[encoded data removed]",
      "text/plain": [
       "<Figure size 1008x432 with 1 Axes>"
      ]
     },
     "metadata": {
      "needs_background": "light"
     },
     "output_type": "display_data"
    }
   ],
   "source": [
    "fig, ax = plt.subplots(figsize = (14, 6))\n",
    "sns.kdeplot(new.R_Height, shade = True, color = 'indianred', label = 'Red')\n",
    "sns.kdeplot(new.B_Height, shade = True, label = 'Blue')\n",
    "plt.xlabel('Height')\n",
    "plt.title('Height Different')\n",
    "\n",
    "plt.show()"
   ]
  },
  {
   "cell_type": "code",
   "execution_count": 65,
   "metadata": {},
   "outputs": [
    {
     "data": {
      "image/png": "[encoded data removed]",
      "text/plain": [
       "<Figure size 864x432 with 1 Axes>"
      ]
     },
     "metadata": {},
     "output_type": "display_data"
    }
   ],
   "source": [
    "plt.figure(figsize = (12, 6))\n",
    "sns.countplot(y = new['weight_class'])\n",
    "\n",
    "sns.set()\n",
    "sns.set(style = \"white\")\n",
    "plt.show()"
   ]
  },
  {
   "cell_type": "markdown",
   "metadata": {},
   "source": [
    "# How the win happened ?"
   ]
  },
  {
   "cell_type": "code",
   "execution_count": 66,
   "metadata": {},
   "outputs": [
    {
     "data": {
      "image/png": "[encoded data removed]",
      "text/plain": [
       "<Figure size 1080x576 with 1 Axes>"
      ]
     },
     "metadata": {},
     "output_type": "display_data"
    }
   ],
   "source": [
    "values = new['win_by'].value_counts()\n",
    "labels = values.index\n",
    "\n",
    "plt.figure(figsize = (15,8))\n",
    "\n",
    "sns.barplot(x = values, y = labels, palette = 'RdBu')\n",
    "\n",
    "plt.title('UFC Fight Win By')\n",
    "plt.show()"
   ]
  },
  {
   "cell_type": "code",
   "execution_count": 69,
   "metadata": {},
   "outputs": [
    {
     "data": {
      "image/png": "[encoded data removed]",
      "text/plain": [
       "<Figure size 720x360 with 1 Axes>"
      ]
     },
     "metadata": {},
     "output_type": "display_data"
    }
   ],
   "source": [
    "bar = new.groupby(['weight_class', 'win_by']).size().reset_index().pivot(columns = 'win_by', index = 'weight_class', values = 0)\n",
    "bar.plot(kind = 'barh', stacked = True, figsize = (10, 5))\n",
    "plt.legend(bbox_to_anchor = (1.23, 0.99), loc = 1, borderaxespad = 0.)\n",
    "plt.title('UFC Fight Outcome by Division')\n",
    "plt.xlabel('Jumlah')\n",
    "plt.ylabel('Divisi')\n",
    "plt.show()"
   ]
  },
  {
   "cell_type": "code",
   "execution_count": null,
   "metadata": {},
   "outputs": [],
   "source": [
    "# on heavy division the match was mainly ended by TKO\n",
    "\n"
   ]
  },
  {
   "cell_type": "code",
   "execution_count": 70,
   "metadata": {},
   "outputs": [
    {
     "data": {
      "image/png": "[encoded data removed]",
      "text/plain": [
       "<Figure size 720x360 with 1 Axes>"
      ]
     },
     "metadata": {},
     "output_type": "display_data"
    }
   ],
   "source": [
    "bar = new.groupby(['date_year', 'win_by']).size().reset_index().pivot(columns='win_by', index='date_year', values=0)\n",
    "bar.plot(kind = 'barh', stacked = True, figsize = (10, 5))\n",
    "plt.legend(bbox_to_anchor = (1.23, 0.99), loc = 1, borderaxespad = 0.)\n",
    "plt.title('UFC Fight Outcome over the Years')\n",
    "plt.xlabel('Jumlah')\n",
    "plt.ylabel('Tahun')\n",
    "plt.show()"
   ]
  },
  {
   "cell_type": "code",
   "execution_count": 72,
   "metadata": {},
   "outputs": [],
   "source": [
    "Attempt = pd.concat([new['R_TOTAL_STR._att'], new['B_TOTAL_STR._att']], ignore_index=True)\n",
    "Landed = pd.concat([new['R_TOTAL_STR._landed'], new['B_TOTAL_STR._landed']], ignore_index=True)"
   ]
  },
  {
   "cell_type": "code",
   "execution_count": 73,
   "metadata": {},
   "outputs": [
    {
     "data": {
      "image/png": "[encoded data removed]",
      "text/plain": [
       "<Figure size 432x432 with 3 Axes>"
      ]
     },
     "metadata": {},
     "output_type": "display_data"
    }
   ],
   "source": [
    "sns.jointplot(x = Attempt , y = Landed)\n",
    "plt.show()"
   ]
  },
  {
   "cell_type": "code",
   "execution_count": 74,
   "metadata": {},
   "outputs": [],
   "source": [
    "#The Higher Strike Attemp The Landed Strike tend to get higher as well\n",
    "\n",
    "r_landed = new['R_TOTAL_STR._landed']\n",
    "r_index = r_landed.index"
   ]
  },
  {
   "cell_type": "code",
   "execution_count": 75,
   "metadata": {},
   "outputs": [],
   "source": [
    "b_landed = new['B_TOTAL_STR._landed']\n",
    "b_index = b_landed.index"
   ]
  },
  {
   "cell_type": "code",
   "execution_count": 76,
   "metadata": {},
   "outputs": [
    {
     "data": {
      "text/plain": [
       "0            Henry Cejudo\n",
       "1    Valentina Shevchenko\n",
       "2           Tony Ferguson\n",
       "3                Petr Yan\n",
       "4           Blagoy Ivanov\n",
       "5          Tatiana Suarez\n",
       "6       Aljamain Sterling\n",
       "7            Alexa Grasso\n",
       "8           Calvin Kattar\n",
       "Name: Winner, dtype: object"
      ]
     },
     "execution_count": 76,
     "metadata": {},
     "output_type": "execute_result"
    }
   ],
   "source": [
    "new['Winner'].head(9)"
   ]
  },
  {
   "cell_type": "code",
   "execution_count": 78,
   "metadata": {},
   "outputs": [
    {
     "data": {
      "image/png": "[encoded data removed]",
      "text/plain": [
       "<Figure size 432x288 with 1 Axes>"
      ]
     },
     "metadata": {},
     "output_type": "display_data"
    }
   ],
   "source": [
    "sns.lineplot(x = r_index[0:9], y = r_landed[0:9], color = 'r')\n",
    "sns.lineplot(x = b_index[0:9], y = b_landed[0:9])\n",
    "plt.show()"
   ]
  },
  {
   "cell_type": "code",
   "execution_count": 79,
   "metadata": {},
   "outputs": [],
   "source": [
    "Fighter = pd.concat([new['R_fighter'], new['B_fighter']], ignore_index = True)"
   ]
  },
  {
   "cell_type": "code",
   "execution_count": 80,
   "metadata": {
    "scrolled": true
   },
   "outputs": [
    {
     "data": {
      "image/png": "[encoded data removed]",
      "text/plain": [
       "<Figure size 720x576 with 1 Axes>"
      ]
     },
     "metadata": {},
     "output_type": "display_data"
    }
   ],
   "source": [
    "plt.figure(figsize = (10,8))\n",
    "sns.countplot(y = Fighter, order = pd.value_counts(Fighter).iloc[:10].index)\n",
    "plt.show()"
   ]
  },
  {
   "cell_type": "markdown",
   "metadata": {},
   "source": [
    "# UFC Prediction"
   ]
  },
  {
   "cell_type": "code",
   "execution_count": 81,
   "metadata": {},
   "outputs": [],
   "source": [
    "from sklearn.preprocessing import StandardScaler\n",
    "from sklearn.preprocessing import LabelEncoder\n",
    "from sklearn.model_selection import train_test_split\n",
    "from sklearn.metrics import accuracy_score\n",
    "from sklearn.model_selection import KFold, RandomizedSearchCV\n",
    "from xgboost import XGBClassifier\n",
    "\n",
    "import warnings\n",
    "warnings.filterwarnings(\"ignore\")"
   ]
  },
  {
   "cell_type": "code",
   "execution_count": 83,
   "metadata": {},
   "outputs": [
    {
     "data": {
      "text/plain": [
       "R_fighter          0\n",
       "B_fighter          0\n",
       "R_KD               0\n",
       "B_KD               0\n",
       "R_SIG_STR_pct      0\n",
       "                ... \n",
       "B_Stance         159\n",
       "B_age              0\n",
       "R_age              0\n",
       "country            0\n",
       "date_year          0\n",
       "Length: 73, dtype: int64"
      ]
     },
     "execution_count": 83,
     "metadata": {},
     "output_type": "execute_result"
    }
   ],
   "source": [
    "#Deal with null Values\n",
    "\n",
    "df = new.copy()\n",
    "\n",
    "df.isnull().sum()"
   ]
  },
  {
   "cell_type": "code",
   "execution_count": 84,
   "metadata": {},
   "outputs": [],
   "source": [
    "df = df.fillna(df.mean())"
   ]
  },
  {
   "cell_type": "code",
   "execution_count": 85,
   "metadata": {},
   "outputs": [],
   "source": [
    "from statistics import mode \n",
    "df['B_Stance'] = df['B_Stance'].fillna(df['B_Stance'].mode()[0])\n",
    "df['R_Stance'] = df['R_Stance'].fillna(df['R_Stance'].mode()[0])"
   ]
  },
  {
   "cell_type": "code",
   "execution_count": 87,
   "metadata": {},
   "outputs": [],
   "source": [
    "# Data Encoding\n",
    "\n",
    "enc = LabelEncoder()\n",
    "\n",
    "data_enc1 = df['weight_class']\n",
    "data_enc1 = enc.fit_transform(data_enc1)\n",
    "\n",
    "data_enc2 = df['R_Stance']\n",
    "data_enc2 = enc.fit_transform(data_enc2)\n",
    "\n",
    "data_enc3 = df['B_Stance']\n",
    "data_enc3= enc.fit_transform(data_enc3)\n",
    "\n",
    "data_enc1 = pd.DataFrame(data_enc1, columns = ['weight_class'])\n",
    "data_enc2 = pd.DataFrame(data_enc2, columns = ['R_Stance'])\n",
    "data_enc3 = pd.DataFrame(data_enc3, columns = ['B_Stance'])"
   ]
  },
  {
   "cell_type": "code",
   "execution_count": 88,
   "metadata": {},
   "outputs": [],
   "source": [
    "df[['weight_class']] = data_enc1[['weight_class']]\n",
    "df[['R_Stance']] = data_enc2[['R_Stance']]\n",
    "df[['B_Stance']] = data_enc3[['B_Stance']]"
   ]
  },
  {
   "cell_type": "code",
   "execution_count": 89,
   "metadata": {},
   "outputs": [],
   "source": [
    "df = pd.concat([df, pd.get_dummies(df['win_by'], prefix = 'win_by')], axis = 1)\n",
    "df.drop(['win_by'], axis = 1, inplace = True)"
   ]
  },
  {
   "cell_type": "code",
   "execution_count": 91,
   "metadata": {},
   "outputs": [
    {
     "data": {
      "text/html": [
       "<div>\n",
       "<style scoped>\n",
       "    .dataframe tbody tr th:only-of-type {\n",
       "        vertical-align: middle;\n",
       "    }\n",
       "\n",
       "    .dataframe tbody tr th {\n",
       "        vertical-align: top;\n",
       "    }\n",
       "\n",
       "    .dataframe thead th {\n",
       "        text-align: right;\n",
       "    }\n",
       "</style>\n",
       "<table border=\"1\" class=\"dataframe\">\n",
       "  <thead>\n",
       "    <tr style=\"text-align: right;\">\n",
       "      <th></th>\n",
       "      <th>R_fighter</th>\n",
       "      <th>B_fighter</th>\n",
       "      <th>R_KD</th>\n",
       "      <th>B_KD</th>\n",
       "      <th>R_SIG_STR_pct</th>\n",
       "      <th>B_SIG_STR_pct</th>\n",
       "      <th>R_TD_pct</th>\n",
       "      <th>B_TD_pct</th>\n",
       "      <th>R_SUB_ATT</th>\n",
       "      <th>B_SUB_ATT</th>\n",
       "      <th>...</th>\n",
       "      <th>win_by_DQ</th>\n",
       "      <th>win_by_Decision - Majority</th>\n",
       "      <th>win_by_Decision - Split</th>\n",
       "      <th>win_by_Decision - Unanimous</th>\n",
       "      <th>win_by_KO/TKO</th>\n",
       "      <th>win_by_Other</th>\n",
       "      <th>win_by_Overturned</th>\n",
       "      <th>win_by_Submission</th>\n",
       "      <th>win_by_TKO - Doctor's Stoppage</th>\n",
       "      <th>Winner_num</th>\n",
       "    </tr>\n",
       "  </thead>\n",
       "  <tbody>\n",
       "    <tr>\n",
       "      <td>0</td>\n",
       "      <td>Henry Cejudo</td>\n",
       "      <td>Marlon Moraes</td>\n",
       "      <td>0</td>\n",
       "      <td>0</td>\n",
       "      <td>0.52</td>\n",
       "      <td>0.47</td>\n",
       "      <td>0.25</td>\n",
       "      <td>0.00</td>\n",
       "      <td>1</td>\n",
       "      <td>0</td>\n",
       "      <td>...</td>\n",
       "      <td>0</td>\n",
       "      <td>0</td>\n",
       "      <td>0</td>\n",
       "      <td>0</td>\n",
       "      <td>1</td>\n",
       "      <td>0</td>\n",
       "      <td>0</td>\n",
       "      <td>0</td>\n",
       "      <td>0</td>\n",
       "      <td>NaN</td>\n",
       "    </tr>\n",
       "    <tr>\n",
       "      <td>1</td>\n",
       "      <td>Valentina Shevchenko</td>\n",
       "      <td>Jessica Eye</td>\n",
       "      <td>1</td>\n",
       "      <td>0</td>\n",
       "      <td>0.72</td>\n",
       "      <td>0.16</td>\n",
       "      <td>1.00</td>\n",
       "      <td>0.00</td>\n",
       "      <td>1</td>\n",
       "      <td>0</td>\n",
       "      <td>...</td>\n",
       "      <td>0</td>\n",
       "      <td>0</td>\n",
       "      <td>0</td>\n",
       "      <td>0</td>\n",
       "      <td>1</td>\n",
       "      <td>0</td>\n",
       "      <td>0</td>\n",
       "      <td>0</td>\n",
       "      <td>0</td>\n",
       "      <td>NaN</td>\n",
       "    </tr>\n",
       "    <tr>\n",
       "      <td>2</td>\n",
       "      <td>Tony Ferguson</td>\n",
       "      <td>Donald Cerrone</td>\n",
       "      <td>0</td>\n",
       "      <td>0</td>\n",
       "      <td>0.52</td>\n",
       "      <td>0.36</td>\n",
       "      <td>0.00</td>\n",
       "      <td>1.00</td>\n",
       "      <td>0</td>\n",
       "      <td>0</td>\n",
       "      <td>...</td>\n",
       "      <td>0</td>\n",
       "      <td>0</td>\n",
       "      <td>0</td>\n",
       "      <td>0</td>\n",
       "      <td>0</td>\n",
       "      <td>0</td>\n",
       "      <td>0</td>\n",
       "      <td>0</td>\n",
       "      <td>1</td>\n",
       "      <td>NaN</td>\n",
       "    </tr>\n",
       "    <tr>\n",
       "      <td>3</td>\n",
       "      <td>Jimmie Rivera</td>\n",
       "      <td>Petr Yan</td>\n",
       "      <td>0</td>\n",
       "      <td>2</td>\n",
       "      <td>0.38</td>\n",
       "      <td>0.29</td>\n",
       "      <td>0.00</td>\n",
       "      <td>0.33</td>\n",
       "      <td>0</td>\n",
       "      <td>0</td>\n",
       "      <td>...</td>\n",
       "      <td>0</td>\n",
       "      <td>0</td>\n",
       "      <td>0</td>\n",
       "      <td>1</td>\n",
       "      <td>0</td>\n",
       "      <td>0</td>\n",
       "      <td>0</td>\n",
       "      <td>0</td>\n",
       "      <td>0</td>\n",
       "      <td>NaN</td>\n",
       "    </tr>\n",
       "    <tr>\n",
       "      <td>4</td>\n",
       "      <td>Tai Tuivasa</td>\n",
       "      <td>Blagoy Ivanov</td>\n",
       "      <td>0</td>\n",
       "      <td>1</td>\n",
       "      <td>0.44</td>\n",
       "      <td>0.59</td>\n",
       "      <td>0.00</td>\n",
       "      <td>1.00</td>\n",
       "      <td>0</td>\n",
       "      <td>0</td>\n",
       "      <td>...</td>\n",
       "      <td>0</td>\n",
       "      <td>0</td>\n",
       "      <td>0</td>\n",
       "      <td>1</td>\n",
       "      <td>0</td>\n",
       "      <td>0</td>\n",
       "      <td>0</td>\n",
       "      <td>0</td>\n",
       "      <td>0</td>\n",
       "      <td>NaN</td>\n",
       "    </tr>\n",
       "  </tbody>\n",
       "</table>\n",
       "<p>5 rows × 83 columns</p>\n",
       "</div>"
      ],
      "text/plain": [
       "              R_fighter       B_fighter  R_KD  B_KD  R_SIG_STR_pct  \\\n",
       "0          Henry Cejudo   Marlon Moraes     0     0           0.52   \n",
       "1  Valentina Shevchenko     Jessica Eye     1     0           0.72   \n",
       "2         Tony Ferguson  Donald Cerrone     0     0           0.52   \n",
       "3         Jimmie Rivera        Petr Yan     0     2           0.38   \n",
       "4           Tai Tuivasa   Blagoy Ivanov     0     1           0.44   \n",
       "\n",
       "   B_SIG_STR_pct  R_TD_pct  B_TD_pct  R_SUB_ATT  B_SUB_ATT  ...  win_by_DQ  \\\n",
       "0           0.47      0.25      0.00          1          0  ...          0   \n",
       "1           0.16      1.00      0.00          1          0  ...          0   \n",
       "2           0.36      0.00      1.00          0          0  ...          0   \n",
       "3           0.29      0.00      0.33          0          0  ...          0   \n",
       "4           0.59      0.00      1.00          0          0  ...          0   \n",
       "\n",
       "   win_by_Decision - Majority  win_by_Decision - Split  \\\n",
       "0                           0                        0   \n",
       "1                           0                        0   \n",
       "2                           0                        0   \n",
       "3                           0                        0   \n",
       "4                           0                        0   \n",
       "\n",
       "   win_by_Decision - Unanimous  win_by_KO/TKO win_by_Other win_by_Overturned  \\\n",
       "0                            0              1            0                 0   \n",
       "1                            0              1            0                 0   \n",
       "2                            0              0            0                 0   \n",
       "3                            1              0            0                 0   \n",
       "4                            1              0            0                 0   \n",
       "\n",
       "  win_by_Submission win_by_TKO - Doctor's Stoppage Winner_num  \n",
       "0                 0                              0        NaN  \n",
       "1                 0                              0        NaN  \n",
       "2                 0                              1        NaN  \n",
       "3                 0                              0        NaN  \n",
       "4                 0                              0        NaN  \n",
       "\n",
       "[5 rows x 83 columns]"
      ]
     },
     "execution_count": 91,
     "metadata": {},
     "output_type": "execute_result"
    }
   ],
   "source": [
    "df['Winner_num'] = df.Winner.map({'Red':0,'Blue':1,'Draw':2})\n",
    "\n",
    "df.head()"
   ]
  },
  {
   "cell_type": "code",
   "execution_count": 92,
   "metadata": {
    "scrolled": true
   },
   "outputs": [
    {
     "data": {
      "text/html": [
       "<div>\n",
       "<style scoped>\n",
       "    .dataframe tbody tr th:only-of-type {\n",
       "        vertical-align: middle;\n",
       "    }\n",
       "\n",
       "    .dataframe tbody tr th {\n",
       "        vertical-align: top;\n",
       "    }\n",
       "\n",
       "    .dataframe thead th {\n",
       "        text-align: right;\n",
       "    }\n",
       "</style>\n",
       "<table border=\"1\" class=\"dataframe\">\n",
       "  <thead>\n",
       "    <tr style=\"text-align: right;\">\n",
       "      <th></th>\n",
       "      <th>R_fighter</th>\n",
       "      <th>B_fighter</th>\n",
       "      <th>weight_class</th>\n",
       "    </tr>\n",
       "  </thead>\n",
       "  <tbody>\n",
       "    <tr>\n",
       "      <td>0</td>\n",
       "      <td>473</td>\n",
       "      <td>1129</td>\n",
       "      <td>0</td>\n",
       "    </tr>\n",
       "    <tr>\n",
       "      <td>1</td>\n",
       "      <td>1273</td>\n",
       "      <td>776</td>\n",
       "      <td>12</td>\n",
       "    </tr>\n",
       "    <tr>\n",
       "      <td>2</td>\n",
       "      <td>1252</td>\n",
       "      <td>472</td>\n",
       "      <td>6</td>\n",
       "    </tr>\n",
       "    <tr>\n",
       "      <td>3</td>\n",
       "      <td>581</td>\n",
       "      <td>1337</td>\n",
       "      <td>0</td>\n",
       "    </tr>\n",
       "    <tr>\n",
       "      <td>4</td>\n",
       "      <td>1202</td>\n",
       "      <td>175</td>\n",
       "      <td>4</td>\n",
       "    </tr>\n",
       "  </tbody>\n",
       "</table>\n",
       "</div>"
      ],
      "text/plain": [
       "   R_fighter  B_fighter  weight_class\n",
       "0        473       1129             0\n",
       "1       1273        776            12\n",
       "2       1252        472             6\n",
       "3        581       1337             0\n",
       "4       1202        175             4"
      ]
     },
     "execution_count": 92,
     "metadata": {},
     "output_type": "execute_result"
    }
   ],
   "source": [
    "encode = df[['R_fighter','B_fighter','weight_class']].apply(enc.fit_transform)\n",
    "encode.head()"
   ]
  },
  {
   "cell_type": "code",
   "execution_count": 93,
   "metadata": {},
   "outputs": [],
   "source": [
    "df[['R_fighter','B_fighter','weight_class']] = encode[['R_fighter','B_fighter','weight_class']]"
   ]
  },
  {
   "cell_type": "code",
   "execution_count": 94,
   "metadata": {},
   "outputs": [
    {
     "data": {
      "text/plain": [
       "0"
      ]
     },
     "execution_count": 94,
     "metadata": {},
     "output_type": "execute_result"
    }
   ],
   "source": [
    "df = df.dropna()\n",
    "sum(df.isnull().sum())"
   ]
  },
  {
   "cell_type": "code",
   "execution_count": 96,
   "metadata": {},
   "outputs": [],
   "source": [
    "# Normalize data with Standard Scaler\n",
    "\n",
    "numerical = df.drop(['R_fighter','B_fighter','weight_class','no_of_rounds','Winner_num'], axis=1)"
   ]
  },
  {
   "cell_type": "code",
   "execution_count": 97,
   "metadata": {},
   "outputs": [],
   "source": [
    "std = StandardScaler()\n",
    "df_num = numerical.select_dtypes(include=[np.float, np.int])"
   ]
  },
  {
   "cell_type": "code",
   "execution_count": 98,
   "metadata": {},
   "outputs": [],
   "source": [
    "numerical[list(df_num.columns)] = std.fit_transform(numerical[list(df_num.columns)])"
   ]
  },
  {
   "cell_type": "code",
   "execution_count": 99,
   "metadata": {},
   "outputs": [],
   "source": [
    "df_fix = numerical.join(df[['R_fighter','B_fighter','weight_class','no_of_rounds','Winner_num']])"
   ]
  },
  {
   "cell_type": "code",
   "execution_count": 100,
   "metadata": {},
   "outputs": [],
   "source": [
    "# Drop Unecessary Column\n",
    "\n",
    "df_fix = df_fix.drop(['country','location','date_year','date','Referee','Format','last_round_time','Fight_type','Winner'], axis=1)"
   ]
  },
  {
   "cell_type": "markdown",
   "metadata": {},
   "source": [
    "# Modeling XGBoost"
   ]
  },
  {
   "cell_type": "code",
   "execution_count": 101,
   "metadata": {},
   "outputs": [],
   "source": [
    "model = XGBClassifier()"
   ]
  },
  {
   "cell_type": "code",
   "execution_count": 102,
   "metadata": {},
   "outputs": [],
   "source": [
    "X = df_fix.drop(['Winner_num'], axis=1)\n",
    "y = df_fix['Winner_num']\n",
    "\n",
    "X_train, X_test, y_train, y_test = train_test_split(X, y, test_size = 0.25, random_state = 42)"
   ]
  },
  {
   "cell_type": "code",
   "execution_count": 103,
   "metadata": {},
   "outputs": [
    {
     "data": {
      "text/plain": [
       "XGBClassifier(base_score=0.5, booster=None, colsample_bylevel=1,\n",
       "              colsample_bynode=1, colsample_bytree=1, gamma=0, gpu_id=-1,\n",
       "              importance_type='gain', interaction_constraints=None,\n",
       "              learning_rate=0.300000012, max_delta_step=0, max_depth=6,\n",
       "              min_child_weight=1, missing=nan, monotone_constraints=None,\n",
       "              n_estimators=100, n_jobs=0, num_parallel_tree=1,\n",
       "              objective='binary:logistic', random_state=0, reg_alpha=0,\n",
       "              reg_lambda=1, scale_pos_weight=1, subsample=1, tree_method=None,\n",
       "              validate_parameters=False, verbosity=None)"
      ]
     },
     "execution_count": 103,
     "metadata": {},
     "output_type": "execute_result"
    }
   ],
   "source": [
    "model.fit(X_train, y_train)"
   ]
  },
  {
   "cell_type": "code",
   "execution_count": 104,
   "metadata": {},
   "outputs": [],
   "source": [
    "pred = model.predict(X_test)"
   ]
  },
  {
   "cell_type": "code",
   "execution_count": 105,
   "metadata": {
    "scrolled": true
   },
   "outputs": [
    {
     "name": "stdout",
     "output_type": "stream",
     "text": [
      "Score: 100.00%\n"
     ]
    }
   ],
   "source": [
    "Score = model.score(X_test, y_test)\n",
    "print(\"Score: %.2f%%\" % (Score * 100.0))"
   ]
  },
  {
   "cell_type": "code",
   "execution_count": 107,
   "metadata": {},
   "outputs": [],
   "source": [
    "from sklearn.preprocessing import label_binarize\n",
    "from sklearn.metrics import roc_curve, auc\n",
    "from itertools import cycle\n",
    "lw = 1"
   ]
  },
  {
   "cell_type": "code",
   "execution_count": 108,
   "metadata": {},
   "outputs": [],
   "source": [
    "X1 = df_fix.drop(['Winner_num'], axis = 1)\n",
    "y1 = df_fix['Winner_num']"
   ]
  },
  {
   "cell_type": "code",
   "execution_count": 109,
   "metadata": {},
   "outputs": [],
   "source": [
    "y1 = label_binarize(y1, classes = [0, 1, 2])\n",
    "n_classes = y1.shape[1]"
   ]
  },
  {
   "cell_type": "code",
   "execution_count": 110,
   "metadata": {},
   "outputs": [],
   "source": [
    "X1_train, X1_test, y1_train, y1_test = train_test_split(X1, y1, test_size = 0.25, random_state = 42)"
   ]
  },
  {
   "cell_type": "code",
   "execution_count": 115,
   "metadata": {},
   "outputs": [],
   "source": [
    "pred_proba = model.predict_proba(X1_test)"
   ]
  }
 ],
 "metadata": {
  "kernelspec": {
   "display_name": "Python 3",
   "language": "python",
   "name": "python3"
  },
  "language_info": {
   "codemirror_mode": {
    "name": "ipython",
    "version": 3
   },
   "file_extension": ".py",
   "mimetype": "text/x-python",
   "name": "python",
   "nbconvert_exporter": "python",
   "pygments_lexer": "ipython3",
   "version": "3.7.4"
  }
 },
 "nbformat": 4,
 "nbformat_minor": 2
}
